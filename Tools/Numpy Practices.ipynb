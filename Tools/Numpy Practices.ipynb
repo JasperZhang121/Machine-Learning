{
 "cells": [
  {
   "cell_type": "markdown",
   "id": "93e576bb",
   "metadata": {},
   "source": [
    "## Basic numpy\n",
    "- 1-D numpy array\n",
    "- N-D array"
   ]
  },
  {
   "cell_type": "code",
   "execution_count": 1,
   "id": "0dcefcf1",
   "metadata": {},
   "outputs": [],
   "source": [
    "import numpy as np"
   ]
  },
  {
   "cell_type": "markdown",
   "id": "50d05d8d",
   "metadata": {},
   "source": [
    "## 1-D\n",
    "\n",
    "- convert list/ tuple to numpy array\n",
    "- claim dtype when create array\n",
    "- arange\n",
    "- linespace\n",
    "- logspace"
   ]
  },
  {
   "cell_type": "code",
   "execution_count": 2,
   "id": "4ebe43fc",
   "metadata": {},
   "outputs": [],
   "source": [
    "L = [1,2,3]"
   ]
  },
  {
   "cell_type": "code",
   "execution_count": 3,
   "id": "8fb32597",
   "metadata": {},
   "outputs": [],
   "source": [
    "arr1 = np.array(L)"
   ]
  },
  {
   "cell_type": "code",
   "execution_count": 4,
   "id": "3734a680",
   "metadata": {},
   "outputs": [
    {
     "data": {
      "text/plain": [
       "array([1, 2, 3])"
      ]
     },
     "execution_count": 4,
     "metadata": {},
     "output_type": "execute_result"
    }
   ],
   "source": [
    "arr1"
   ]
  },
  {
   "cell_type": "code",
   "execution_count": 5,
   "id": "9b62623d",
   "metadata": {},
   "outputs": [],
   "source": [
    "T = (4,5,6)"
   ]
  },
  {
   "cell_type": "code",
   "execution_count": 6,
   "id": "68c1e3a2",
   "metadata": {},
   "outputs": [],
   "source": [
    "arr2 = np.array(T)"
   ]
  },
  {
   "cell_type": "code",
   "execution_count": 7,
   "id": "54a73528",
   "metadata": {},
   "outputs": [
    {
     "data": {
      "text/plain": [
       "array([4, 5, 6])"
      ]
     },
     "execution_count": 7,
     "metadata": {},
     "output_type": "execute_result"
    }
   ],
   "source": [
    "arr2"
   ]
  },
  {
   "cell_type": "code",
   "execution_count": 8,
   "id": "bdf77431",
   "metadata": {},
   "outputs": [
    {
     "data": {
      "text/plain": [
       "dtype('int32')"
      ]
     },
     "execution_count": 8,
     "metadata": {},
     "output_type": "execute_result"
    }
   ],
   "source": [
    "arr1.dtype"
   ]
  },
  {
   "cell_type": "code",
   "execution_count": 9,
   "id": "470e65f0",
   "metadata": {},
   "outputs": [],
   "source": [
    "arr3 = np.array([1,2,3,4],dtype = float)"
   ]
  },
  {
   "cell_type": "code",
   "execution_count": 10,
   "id": "781dc0cf",
   "metadata": {},
   "outputs": [
    {
     "data": {
      "text/plain": [
       "array([1., 2., 3., 4.])"
      ]
     },
     "execution_count": 10,
     "metadata": {},
     "output_type": "execute_result"
    }
   ],
   "source": [
    "arr3"
   ]
  },
  {
   "cell_type": "code",
   "execution_count": 11,
   "id": "9e48b669",
   "metadata": {},
   "outputs": [
    {
     "data": {
      "text/plain": [
       "dtype('float64')"
      ]
     },
     "execution_count": 11,
     "metadata": {},
     "output_type": "execute_result"
    }
   ],
   "source": [
    "arr3.dtype"
   ]
  },
  {
   "cell_type": "code",
   "execution_count": 12,
   "id": "4700fd01",
   "metadata": {},
   "outputs": [],
   "source": [
    "# astype makes a new object\n",
    "arr3 = arr3.astype(np.int32)"
   ]
  },
  {
   "cell_type": "code",
   "execution_count": 13,
   "id": "2f5a3566",
   "metadata": {},
   "outputs": [
    {
     "data": {
      "text/plain": [
       "dtype('int32')"
      ]
     },
     "execution_count": 13,
     "metadata": {},
     "output_type": "execute_result"
    }
   ],
   "source": [
    "arr3.dtype"
   ]
  },
  {
   "cell_type": "code",
   "execution_count": 14,
   "id": "5b57c0c3",
   "metadata": {},
   "outputs": [],
   "source": [
    "a = arr3.astype(np.str0)"
   ]
  },
  {
   "cell_type": "code",
   "execution_count": 15,
   "id": "f4a862bf",
   "metadata": {},
   "outputs": [
    {
     "data": {
      "text/plain": [
       "array(['1', '2', '3', '4'], dtype='<U11')"
      ]
     },
     "execution_count": 15,
     "metadata": {},
     "output_type": "execute_result"
    }
   ],
   "source": [
    "a"
   ]
  },
  {
   "cell_type": "code",
   "execution_count": 16,
   "id": "17077491",
   "metadata": {},
   "outputs": [],
   "source": [
    "arr4 = np.arange(1,10,2)"
   ]
  },
  {
   "cell_type": "code",
   "execution_count": 17,
   "id": "1a1c1ae3",
   "metadata": {},
   "outputs": [
    {
     "data": {
      "text/plain": [
       "array([1, 3, 5, 7, 9])"
      ]
     },
     "execution_count": 17,
     "metadata": {},
     "output_type": "execute_result"
    }
   ],
   "source": [
    "arr4"
   ]
  },
  {
   "cell_type": "code",
   "execution_count": 18,
   "id": "b1a309dc",
   "metadata": {},
   "outputs": [],
   "source": [
    "arr5 = np.linspace(1,10,5)"
   ]
  },
  {
   "cell_type": "code",
   "execution_count": 19,
   "id": "137aeb52",
   "metadata": {},
   "outputs": [
    {
     "data": {
      "text/plain": [
       "array([ 1.  ,  3.25,  5.5 ,  7.75, 10.  ])"
      ]
     },
     "execution_count": 19,
     "metadata": {},
     "output_type": "execute_result"
    }
   ],
   "source": [
    "arr5"
   ]
  },
  {
   "cell_type": "code",
   "execution_count": 20,
   "id": "862e20a5",
   "metadata": {},
   "outputs": [],
   "source": [
    "arr6 = np.logspace(0,9,10,base=3)"
   ]
  },
  {
   "cell_type": "code",
   "execution_count": 21,
   "id": "c4d3739c",
   "metadata": {},
   "outputs": [
    {
     "data": {
      "text/plain": [
       "array([1.0000e+00, 3.0000e+00, 9.0000e+00, 2.7000e+01, 8.1000e+01,\n",
       "       2.4300e+02, 7.2900e+02, 2.1870e+03, 6.5610e+03, 1.9683e+04])"
      ]
     },
     "execution_count": 21,
     "metadata": {},
     "output_type": "execute_result"
    }
   ],
   "source": [
    "arr6"
   ]
  },
  {
   "cell_type": "markdown",
   "id": "75f868ab",
   "metadata": {},
   "source": [
    "## N-D\n",
    "- convert N-D array from list\n",
    "- ones\n",
    "- zeros\n",
    "- empty\n",
    "- full\n",
    "- identity\n",
    "- eye"
   ]
  },
  {
   "cell_type": "code",
   "execution_count": 23,
   "id": "77c29486",
   "metadata": {},
   "outputs": [],
   "source": [
    "LL= [[1,2,3],[4,5,6],[7,8,9]]\n",
    "arr7 = np.array(LL)"
   ]
  },
  {
   "cell_type": "code",
   "execution_count": 24,
   "id": "13b71c45",
   "metadata": {},
   "outputs": [
    {
     "data": {
      "text/plain": [
       "array([[1, 2, 3],\n",
       "       [4, 5, 6],\n",
       "       [7, 8, 9]])"
      ]
     },
     "execution_count": 24,
     "metadata": {},
     "output_type": "execute_result"
    }
   ],
   "source": [
    "arr7"
   ]
  },
  {
   "cell_type": "code",
   "execution_count": 25,
   "id": "907521f1",
   "metadata": {},
   "outputs": [
    {
     "data": {
      "text/plain": [
       "(3, 3)"
      ]
     },
     "execution_count": 25,
     "metadata": {},
     "output_type": "execute_result"
    }
   ],
   "source": [
    "arr7.shape"
   ]
  },
  {
   "cell_type": "code",
   "execution_count": 26,
   "id": "61009e89",
   "metadata": {},
   "outputs": [
    {
     "data": {
      "text/plain": [
       "array([1, 2, 3])"
      ]
     },
     "execution_count": 26,
     "metadata": {},
     "output_type": "execute_result"
    }
   ],
   "source": [
    "arr1"
   ]
  },
  {
   "cell_type": "code",
   "execution_count": 27,
   "id": "b3c4e40c",
   "metadata": {},
   "outputs": [
    {
     "data": {
      "text/plain": [
       "array([4, 5, 6])"
      ]
     },
     "execution_count": 27,
     "metadata": {},
     "output_type": "execute_result"
    }
   ],
   "source": [
    "arr2"
   ]
  },
  {
   "cell_type": "code",
   "execution_count": 34,
   "id": "6a493b6b",
   "metadata": {},
   "outputs": [],
   "source": [
    "arr8 = np.arange(1,10)"
   ]
  },
  {
   "cell_type": "code",
   "execution_count": 37,
   "id": "cdb74803",
   "metadata": {},
   "outputs": [],
   "source": [
    "arr8 = arr8.reshape(3,3)"
   ]
  },
  {
   "cell_type": "code",
   "execution_count": 38,
   "id": "a0327ac7",
   "metadata": {},
   "outputs": [
    {
     "data": {
      "text/plain": [
       "array([[1, 2, 3],\n",
       "       [4, 5, 6],\n",
       "       [7, 8, 9]])"
      ]
     },
     "execution_count": 38,
     "metadata": {},
     "output_type": "execute_result"
    }
   ],
   "source": [
    "arr8"
   ]
  },
  {
   "cell_type": "code",
   "execution_count": 39,
   "id": "7e07ba70",
   "metadata": {},
   "outputs": [],
   "source": [
    "arr9 = np.ones((4,4), dtype = 'float')"
   ]
  },
  {
   "cell_type": "code",
   "execution_count": 40,
   "id": "dda03267",
   "metadata": {},
   "outputs": [
    {
     "data": {
      "text/plain": [
       "array([[1., 1., 1., 1.],\n",
       "       [1., 1., 1., 1.],\n",
       "       [1., 1., 1., 1.],\n",
       "       [1., 1., 1., 1.]])"
      ]
     },
     "execution_count": 40,
     "metadata": {},
     "output_type": "execute_result"
    }
   ],
   "source": [
    "arr9"
   ]
  },
  {
   "cell_type": "code",
   "execution_count": 41,
   "id": "aa198331",
   "metadata": {},
   "outputs": [],
   "source": [
    "arr10 = np.zeros((4,4), dtype = 'float')"
   ]
  },
  {
   "cell_type": "code",
   "execution_count": 42,
   "id": "2bc4f4a3",
   "metadata": {},
   "outputs": [
    {
     "data": {
      "text/plain": [
       "array([[0., 0., 0., 0.],\n",
       "       [0., 0., 0., 0.],\n",
       "       [0., 0., 0., 0.],\n",
       "       [0., 0., 0., 0.]])"
      ]
     },
     "execution_count": 42,
     "metadata": {},
     "output_type": "execute_result"
    }
   ],
   "source": [
    "arr10"
   ]
  },
  {
   "cell_type": "code",
   "execution_count": 49,
   "id": "6e4c5a01",
   "metadata": {},
   "outputs": [],
   "source": [
    "arr11 = np.empty((2,2))"
   ]
  },
  {
   "cell_type": "code",
   "execution_count": 50,
   "id": "29e4cab2",
   "metadata": {},
   "outputs": [
    {
     "data": {
      "text/plain": [
       "array([[1., 2.],\n",
       "       [3., 4.]])"
      ]
     },
     "execution_count": 50,
     "metadata": {},
     "output_type": "execute_result"
    }
   ],
   "source": [
    "arr11"
   ]
  },
  {
   "cell_type": "code",
   "execution_count": 51,
   "id": "c8de7912",
   "metadata": {},
   "outputs": [],
   "source": [
    "arr12 = np.full((2,5),5)"
   ]
  },
  {
   "cell_type": "code",
   "execution_count": 52,
   "id": "b1abc3da",
   "metadata": {},
   "outputs": [
    {
     "data": {
      "text/plain": [
       "array([[5, 5, 5, 5, 5],\n",
       "       [5, 5, 5, 5, 5]])"
      ]
     },
     "execution_count": 52,
     "metadata": {},
     "output_type": "execute_result"
    }
   ],
   "source": [
    "arr12"
   ]
  },
  {
   "cell_type": "code",
   "execution_count": 53,
   "id": "5734dc2c",
   "metadata": {},
   "outputs": [],
   "source": [
    "arr13 = np.identity(3,dtype=\"float\")"
   ]
  },
  {
   "cell_type": "code",
   "execution_count": 55,
   "id": "26de7474",
   "metadata": {},
   "outputs": [
    {
     "data": {
      "text/plain": [
       "array([[1., 0., 0.],\n",
       "       [0., 1., 0.],\n",
       "       [0., 0., 1.]])"
      ]
     },
     "execution_count": 55,
     "metadata": {},
     "output_type": "execute_result"
    }
   ],
   "source": [
    "arr13"
   ]
  },
  {
   "cell_type": "code",
   "execution_count": 58,
   "id": "f95b2433",
   "metadata": {},
   "outputs": [],
   "source": [
    "arr14 = np.eye(3,6,1)"
   ]
  },
  {
   "cell_type": "markdown",
   "id": "ed7310d9",
   "metadata": {},
   "source": [
    "### Property\n",
    "- ndim\n",
    "- shape\n",
    "- size\n",
    "- itemsize\n",
    "- nbytes\n"
   ]
  },
  {
   "cell_type": "code",
   "execution_count": 59,
   "id": "aa2442c4",
   "metadata": {},
   "outputs": [
    {
     "data": {
      "text/plain": [
       "array([[0., 1., 0., 0., 0., 0.],\n",
       "       [0., 0., 1., 0., 0., 0.],\n",
       "       [0., 0., 0., 1., 0., 0.]])"
      ]
     },
     "execution_count": 59,
     "metadata": {},
     "output_type": "execute_result"
    }
   ],
   "source": [
    "arr14"
   ]
  },
  {
   "cell_type": "code",
   "execution_count": 60,
   "id": "af43165f",
   "metadata": {},
   "outputs": [
    {
     "data": {
      "text/plain": [
       "2"
      ]
     },
     "execution_count": 60,
     "metadata": {},
     "output_type": "execute_result"
    }
   ],
   "source": [
    "arr14.ndim"
   ]
  },
  {
   "cell_type": "code",
   "execution_count": 61,
   "id": "6130a00d",
   "metadata": {},
   "outputs": [
    {
     "data": {
      "text/plain": [
       "(3, 6)"
      ]
     },
     "execution_count": 61,
     "metadata": {},
     "output_type": "execute_result"
    }
   ],
   "source": [
    "arr14.shape"
   ]
  },
  {
   "cell_type": "code",
   "execution_count": 62,
   "id": "4d2c03c3",
   "metadata": {},
   "outputs": [
    {
     "data": {
      "text/plain": [
       "18"
      ]
     },
     "execution_count": 62,
     "metadata": {},
     "output_type": "execute_result"
    }
   ],
   "source": [
    "arr14.size"
   ]
  },
  {
   "cell_type": "code",
   "execution_count": 63,
   "id": "6b08cda7",
   "metadata": {},
   "outputs": [
    {
     "data": {
      "text/plain": [
       "8"
      ]
     },
     "execution_count": 63,
     "metadata": {},
     "output_type": "execute_result"
    }
   ],
   "source": [
    "arr14.itemsize"
   ]
  },
  {
   "cell_type": "code",
   "execution_count": 64,
   "id": "e6dbfe76",
   "metadata": {},
   "outputs": [
    {
     "data": {
      "text/plain": [
       "144"
      ]
     },
     "execution_count": 64,
     "metadata": {},
     "output_type": "execute_result"
    }
   ],
   "source": [
    "arr14.nbytes"
   ]
  },
  {
   "cell_type": "code",
   "execution_count": 68,
   "id": "6f2937aa",
   "metadata": {},
   "outputs": [],
   "source": [
    "arr15 = arr14.T"
   ]
  },
  {
   "cell_type": "code",
   "execution_count": 69,
   "id": "5ce402f9",
   "metadata": {},
   "outputs": [
    {
     "data": {
      "text/plain": [
       "array([[0., 0., 0.],\n",
       "       [1., 0., 0.],\n",
       "       [0., 1., 0.],\n",
       "       [0., 0., 1.],\n",
       "       [0., 0., 0.],\n",
       "       [0., 0., 0.]])"
      ]
     },
     "execution_count": 69,
     "metadata": {},
     "output_type": "execute_result"
    }
   ],
   "source": [
    "arr15"
   ]
  },
  {
   "cell_type": "code",
   "execution_count": 72,
   "id": "eb9da41c",
   "metadata": {},
   "outputs": [
    {
     "data": {
      "text/plain": [
       "1.0"
      ]
     },
     "execution_count": 72,
     "metadata": {},
     "output_type": "execute_result"
    }
   ],
   "source": [
    "arr15[1,0]"
   ]
  },
  {
   "cell_type": "code",
   "execution_count": 73,
   "id": "368efb3c",
   "metadata": {},
   "outputs": [
    {
     "data": {
      "text/plain": [
       "array([[0., 0.],\n",
       "       [1., 0.],\n",
       "       [0., 1.],\n",
       "       [0., 0.],\n",
       "       [0., 0.]])"
      ]
     },
     "execution_count": 73,
     "metadata": {},
     "output_type": "execute_result"
    }
   ],
   "source": [
    "arr15[1:,1:]"
   ]
  },
  {
   "cell_type": "code",
   "execution_count": 74,
   "id": "a5dd52c5",
   "metadata": {},
   "outputs": [
    {
     "data": {
      "text/plain": [
       "array([[0., 0., 0.],\n",
       "       [1., 0., 0.],\n",
       "       [0., 1., 0.],\n",
       "       [0., 0., 1.],\n",
       "       [0., 0., 0.],\n",
       "       [0., 0., 0.]])"
      ]
     },
     "execution_count": 74,
     "metadata": {},
     "output_type": "execute_result"
    }
   ],
   "source": [
    "arr15"
   ]
  },
  {
   "cell_type": "markdown",
   "id": "e1972627",
   "metadata": {},
   "source": [
    "### Search\n",
    "- bool list\n",
    "- index list\n",
    "- multiple index lists\n",
    "- iterator"
   ]
  },
  {
   "cell_type": "code",
   "execution_count": 76,
   "id": "a1a1907f",
   "metadata": {},
   "outputs": [],
   "source": [
    "arr16 = np.linspace(1,10,5)"
   ]
  },
  {
   "cell_type": "code",
   "execution_count": 78,
   "id": "6719b601",
   "metadata": {},
   "outputs": [
    {
     "data": {
      "text/plain": [
       "array([ 1.  ,  3.25,  5.5 ,  7.75, 10.  ])"
      ]
     },
     "execution_count": 78,
     "metadata": {},
     "output_type": "execute_result"
    }
   ],
   "source": [
    "arr16"
   ]
  },
  {
   "cell_type": "code",
   "execution_count": 80,
   "id": "cf9c0829",
   "metadata": {},
   "outputs": [],
   "source": [
    "boolist = [True, False,True,False,True]\n",
    "arr17 = np.array(boolist)"
   ]
  },
  {
   "cell_type": "code",
   "execution_count": 81,
   "id": "a772af7b",
   "metadata": {},
   "outputs": [
    {
     "data": {
      "text/plain": [
       "array([ True, False,  True, False,  True])"
      ]
     },
     "execution_count": 81,
     "metadata": {},
     "output_type": "execute_result"
    }
   ],
   "source": [
    "arr17"
   ]
  },
  {
   "cell_type": "code",
   "execution_count": 82,
   "id": "4e102b0e",
   "metadata": {},
   "outputs": [],
   "source": [
    "arr18 = arr16[arr17]"
   ]
  },
  {
   "cell_type": "code",
   "execution_count": 83,
   "id": "26b1d933",
   "metadata": {},
   "outputs": [
    {
     "data": {
      "text/plain": [
       "array([ 1. ,  5.5, 10. ])"
      ]
     },
     "execution_count": 83,
     "metadata": {},
     "output_type": "execute_result"
    }
   ],
   "source": [
    "arr18"
   ]
  },
  {
   "cell_type": "code",
   "execution_count": 85,
   "id": "afb89062",
   "metadata": {},
   "outputs": [],
   "source": [
    "arr19 = np.arange(1,16,2)"
   ]
  },
  {
   "cell_type": "code",
   "execution_count": 86,
   "id": "ce18981e",
   "metadata": {},
   "outputs": [
    {
     "data": {
      "text/plain": [
       "array([ 1,  3,  5,  7,  9, 11, 13, 15])"
      ]
     },
     "execution_count": 86,
     "metadata": {},
     "output_type": "execute_result"
    }
   ],
   "source": [
    "arr19"
   ]
  },
  {
   "cell_type": "code",
   "execution_count": 94,
   "id": "49476486",
   "metadata": {},
   "outputs": [],
   "source": [
    "i = np.array([[1,1],[3,4]])"
   ]
  },
  {
   "cell_type": "code",
   "execution_count": 95,
   "id": "7004c32f",
   "metadata": {},
   "outputs": [],
   "source": [
    "arr20 = arr19[i]"
   ]
  },
  {
   "cell_type": "code",
   "execution_count": 96,
   "id": "280a6752",
   "metadata": {},
   "outputs": [
    {
     "data": {
      "text/plain": [
       "array([[3, 3],\n",
       "       [7, 9]])"
      ]
     },
     "execution_count": 96,
     "metadata": {},
     "output_type": "execute_result"
    }
   ],
   "source": [
    "arr20"
   ]
  },
  {
   "cell_type": "code",
   "execution_count": 97,
   "id": "7e171cf8",
   "metadata": {},
   "outputs": [
    {
     "data": {
      "text/plain": [
       "array([ 1,  3,  5,  7,  9, 11, 13, 15])"
      ]
     },
     "execution_count": 97,
     "metadata": {},
     "output_type": "execute_result"
    }
   ],
   "source": [
    "arr19"
   ]
  },
  {
   "cell_type": "code",
   "execution_count": 109,
   "id": "1d69d473",
   "metadata": {},
   "outputs": [],
   "source": [
    "arr21 = np.arange(12).reshape(3,4)"
   ]
  },
  {
   "cell_type": "code",
   "execution_count": 110,
   "id": "fb6c152f",
   "metadata": {},
   "outputs": [],
   "source": [
    "m = np.array([[1,1],[2,0]])"
   ]
  },
  {
   "cell_type": "code",
   "execution_count": 111,
   "id": "fa50f803",
   "metadata": {},
   "outputs": [],
   "source": [
    "n = np.array([[2,0],[1,1]])"
   ]
  },
  {
   "cell_type": "code",
   "execution_count": 114,
   "id": "8eb9b260",
   "metadata": {},
   "outputs": [],
   "source": [
    "arr22 = arr21[m,n]"
   ]
  },
  {
   "cell_type": "code",
   "execution_count": 115,
   "id": "927e4145",
   "metadata": {},
   "outputs": [
    {
     "data": {
      "text/plain": [
       "array([[6, 4],\n",
       "       [9, 1]])"
      ]
     },
     "execution_count": 115,
     "metadata": {},
     "output_type": "execute_result"
    }
   ],
   "source": [
    "arr22"
   ]
  },
  {
   "cell_type": "code",
   "execution_count": 119,
   "id": "7f81f2e5",
   "metadata": {},
   "outputs": [
    {
     "name": "stdout",
     "output_type": "stream",
     "text": [
      "0,1,2,3,4,5,6,7,8,9,10,11,"
     ]
    }
   ],
   "source": [
    "for x in np.nditer(arr21):\n",
    "    print(x,end=\",\")"
   ]
  },
  {
   "cell_type": "markdown",
   "id": "0c12db32",
   "metadata": {},
   "source": [
    "### Concatenate\n",
    "- concatenate\n",
    "- hstack\n",
    "- vstack"
   ]
  },
  {
   "cell_type": "code",
   "execution_count": 123,
   "id": "1810c5fd",
   "metadata": {},
   "outputs": [],
   "source": [
    "arr23 = np.array([[1,2,3],[1,2,3]])"
   ]
  },
  {
   "cell_type": "code",
   "execution_count": 124,
   "id": "700448a3",
   "metadata": {},
   "outputs": [],
   "source": [
    "arr24 = np.array([[4,5,6],[4,5,6]])"
   ]
  },
  {
   "cell_type": "code",
   "execution_count": 130,
   "id": "660d215d",
   "metadata": {},
   "outputs": [],
   "source": [
    "arr25 = np.concatenate((arr23,arr24),0)"
   ]
  },
  {
   "cell_type": "code",
   "execution_count": 131,
   "id": "566d80fd",
   "metadata": {},
   "outputs": [
    {
     "data": {
      "text/plain": [
       "array([[1, 2, 3],\n",
       "       [1, 2, 3],\n",
       "       [4, 5, 6],\n",
       "       [4, 5, 6]])"
      ]
     },
     "execution_count": 131,
     "metadata": {},
     "output_type": "execute_result"
    }
   ],
   "source": [
    "arr25"
   ]
  },
  {
   "cell_type": "code",
   "execution_count": 134,
   "id": "1d578a51",
   "metadata": {},
   "outputs": [],
   "source": [
    "arr26 = np.hstack((arr23,arr24))"
   ]
  },
  {
   "cell_type": "code",
   "execution_count": 135,
   "id": "af2dce7a",
   "metadata": {},
   "outputs": [
    {
     "data": {
      "text/plain": [
       "array([[1, 2, 3, 4, 5, 6],\n",
       "       [1, 2, 3, 4, 5, 6]])"
      ]
     },
     "execution_count": 135,
     "metadata": {},
     "output_type": "execute_result"
    }
   ],
   "source": [
    "arr26"
   ]
  },
  {
   "cell_type": "code",
   "execution_count": 137,
   "id": "d0819b10",
   "metadata": {},
   "outputs": [],
   "source": [
    "arr27 = np.vstack((arr23,arr24))"
   ]
  },
  {
   "cell_type": "code",
   "execution_count": 138,
   "id": "c5b6027c",
   "metadata": {},
   "outputs": [
    {
     "data": {
      "text/plain": [
       "array([[1, 2, 3],\n",
       "       [1, 2, 3],\n",
       "       [4, 5, 6],\n",
       "       [4, 5, 6]])"
      ]
     },
     "execution_count": 138,
     "metadata": {},
     "output_type": "execute_result"
    }
   ],
   "source": [
    "arr27"
   ]
  },
  {
   "cell_type": "markdown",
   "id": "25f5f3ae",
   "metadata": {},
   "source": [
    "### Split\n",
    "- split\n",
    "- hsplit\n",
    "- vsplit"
   ]
  },
  {
   "cell_type": "code",
   "execution_count": 172,
   "id": "791f2a31",
   "metadata": {},
   "outputs": [],
   "source": [
    "a = np.linspace(1,20,9)\n",
    "b = a.reshape(3,3)\n",
    "arr28 = np.split(a,3)\n",
    "arr29 = np.split(a,[4,7])\n",
    "arr30 = np.split(b,3,axis=1)"
   ]
  },
  {
   "cell_type": "code",
   "execution_count": 173,
   "id": "b945fc7e",
   "metadata": {
    "scrolled": true
   },
   "outputs": [
    {
     "data": {
      "text/plain": [
       "[array([1.   , 3.375, 5.75 ]),\n",
       " array([ 8.125, 10.5  , 12.875]),\n",
       " array([15.25 , 17.625, 20.   ])]"
      ]
     },
     "execution_count": 173,
     "metadata": {},
     "output_type": "execute_result"
    }
   ],
   "source": [
    "arr28"
   ]
  },
  {
   "cell_type": "code",
   "execution_count": 174,
   "id": "8056bc03",
   "metadata": {},
   "outputs": [
    {
     "data": {
      "text/plain": [
       "[array([1.   , 3.375, 5.75 , 8.125]),\n",
       " array([10.5  , 12.875, 15.25 ]),\n",
       " array([17.625, 20.   ])]"
      ]
     },
     "execution_count": 174,
     "metadata": {},
     "output_type": "execute_result"
    }
   ],
   "source": [
    "arr29"
   ]
  },
  {
   "cell_type": "code",
   "execution_count": 175,
   "id": "df034a26",
   "metadata": {},
   "outputs": [
    {
     "data": {
      "text/plain": [
       "array([[ 1.   ,  3.375,  5.75 ],\n",
       "       [ 8.125, 10.5  , 12.875],\n",
       "       [15.25 , 17.625, 20.   ]])"
      ]
     },
     "execution_count": 175,
     "metadata": {},
     "output_type": "execute_result"
    }
   ],
   "source": [
    "b"
   ]
  },
  {
   "cell_type": "code",
   "execution_count": 176,
   "id": "a540c958",
   "metadata": {},
   "outputs": [
    {
     "data": {
      "text/plain": [
       "[array([[ 1.   ],\n",
       "        [ 8.125],\n",
       "        [15.25 ]]),\n",
       " array([[ 3.375],\n",
       "        [10.5  ],\n",
       "        [17.625]]),\n",
       " array([[ 5.75 ],\n",
       "        [12.875],\n",
       "        [20.   ]])]"
      ]
     },
     "execution_count": 176,
     "metadata": {},
     "output_type": "execute_result"
    }
   ],
   "source": [
    "arr30"
   ]
  },
  {
   "cell_type": "code",
   "execution_count": 177,
   "id": "c6c83b92",
   "metadata": {},
   "outputs": [],
   "source": [
    "arr31 = np.hsplit(b,3)"
   ]
  },
  {
   "cell_type": "code",
   "execution_count": 178,
   "id": "1e30ed1c",
   "metadata": {},
   "outputs": [
    {
     "data": {
      "text/plain": [
       "[array([[ 1.   ],\n",
       "        [ 8.125],\n",
       "        [15.25 ]]),\n",
       " array([[ 3.375],\n",
       "        [10.5  ],\n",
       "        [17.625]]),\n",
       " array([[ 5.75 ],\n",
       "        [12.875],\n",
       "        [20.   ]])]"
      ]
     },
     "execution_count": 178,
     "metadata": {},
     "output_type": "execute_result"
    }
   ],
   "source": [
    "arr31"
   ]
  },
  {
   "cell_type": "code",
   "execution_count": 180,
   "id": "39f9f9b0",
   "metadata": {},
   "outputs": [],
   "source": [
    "arr32 = np.vsplit(b,3)"
   ]
  },
  {
   "cell_type": "code",
   "execution_count": 181,
   "id": "9ea7bc38",
   "metadata": {},
   "outputs": [
    {
     "data": {
      "text/plain": [
       "[array([[1.   , 3.375, 5.75 ]]),\n",
       " array([[ 8.125, 10.5  , 12.875]]),\n",
       " array([[15.25 , 17.625, 20.   ]])]"
      ]
     },
     "execution_count": 181,
     "metadata": {},
     "output_type": "execute_result"
    }
   ],
   "source": [
    "arr32"
   ]
  },
  {
   "cell_type": "markdown",
   "id": "ed2bcc51",
   "metadata": {},
   "source": [
    "### Operations\n",
    "- ufunc\n",
    "- random\n",
    "- normal distribution\n",
    "- sort\n",
    "- sum\n",
    "- max\n",
    "- min \n",
    "- average\n",
    "- unique"
   ]
  },
  {
   "cell_type": "code",
   "execution_count": 193,
   "id": "265da6da",
   "metadata": {},
   "outputs": [
    {
     "data": {
      "text/plain": [
       "array([1, 2, 3, 4], dtype=object)"
      ]
     },
     "execution_count": 193,
     "metadata": {},
     "output_type": "execute_result"
    }
   ],
   "source": [
    "a = np.array([-1,-2,-3,-4])\n",
    "ufun = np.frompyfunc(abs,1,1)\n",
    "arr33 = ufun(a)\n",
    "arr33"
   ]
  },
  {
   "cell_type": "code",
   "execution_count": 184,
   "id": "b97cccb2",
   "metadata": {},
   "outputs": [],
   "source": [
    "arr34 = np.random.rand(10)"
   ]
  },
  {
   "cell_type": "code",
   "execution_count": 185,
   "id": "8e922c7b",
   "metadata": {},
   "outputs": [
    {
     "data": {
      "text/plain": [
       "array([0.36185089, 0.88700679, 0.59847476, 0.18094953, 0.5348248 ,\n",
       "       0.43685576, 0.66907256, 0.00406788, 0.39497134, 0.68131748])"
      ]
     },
     "execution_count": 185,
     "metadata": {},
     "output_type": "execute_result"
    }
   ],
   "source": [
    "arr34"
   ]
  },
  {
   "cell_type": "code",
   "execution_count": 186,
   "id": "11c70038",
   "metadata": {},
   "outputs": [],
   "source": [
    "arr35 = np.random.rand(5,5)"
   ]
  },
  {
   "cell_type": "code",
   "execution_count": 187,
   "id": "c9812d53",
   "metadata": {},
   "outputs": [
    {
     "data": {
      "text/plain": [
       "array([[0.79218917, 0.63201583, 0.41099722, 0.87011863, 0.18169097],\n",
       "       [0.70735748, 0.14375852, 0.09958825, 0.23870418, 0.43321308],\n",
       "       [0.18968737, 0.50963982, 0.91567094, 0.934136  , 0.63222601],\n",
       "       [0.82213392, 0.93959672, 0.09674751, 0.32451092, 0.05081584],\n",
       "       [0.08918179, 0.95414359, 0.70366057, 0.98588908, 0.26822749]])"
      ]
     },
     "execution_count": 187,
     "metadata": {},
     "output_type": "execute_result"
    }
   ],
   "source": [
    "arr35"
   ]
  },
  {
   "cell_type": "code",
   "execution_count": 191,
   "id": "1915d134",
   "metadata": {},
   "outputs": [],
   "source": [
    "arr36 = np.random.randint(5,10,size=(3,2))"
   ]
  },
  {
   "cell_type": "code",
   "execution_count": 192,
   "id": "69d03f07",
   "metadata": {},
   "outputs": [
    {
     "data": {
      "text/plain": [
       "array([[6, 6],\n",
       "       [5, 7],\n",
       "       [6, 5]])"
      ]
     },
     "execution_count": 192,
     "metadata": {},
     "output_type": "execute_result"
    }
   ],
   "source": [
    "arr36"
   ]
  },
  {
   "cell_type": "code",
   "execution_count": 194,
   "id": "d91d4446",
   "metadata": {},
   "outputs": [],
   "source": [
    "arr37 = np.random.randn(10)"
   ]
  },
  {
   "cell_type": "code",
   "execution_count": 195,
   "id": "540390f9",
   "metadata": {},
   "outputs": [
    {
     "data": {
      "text/plain": [
       "array([ 0.25403918, -0.96813683,  0.6080864 ,  1.52792805,  0.12582685,\n",
       "       -0.53951726, -0.99478686,  0.06380437,  0.8846029 ,  1.59543496])"
      ]
     },
     "execution_count": 195,
     "metadata": {},
     "output_type": "execute_result"
    }
   ],
   "source": [
    "arr37"
   ]
  },
  {
   "cell_type": "code",
   "execution_count": 196,
   "id": "0749bbf1",
   "metadata": {},
   "outputs": [],
   "source": [
    "arr38 = np.random.normal(1000,30,size=(3,3))"
   ]
  },
  {
   "cell_type": "code",
   "execution_count": 197,
   "id": "37e17ab2",
   "metadata": {},
   "outputs": [
    {
     "data": {
      "text/plain": [
       "array([[ 967.57248066,  964.22511572, 1009.08262936],\n",
       "       [1020.14166036,  994.30371509, 1052.80114839],\n",
       "       [1034.61176902, 1011.42770733,  999.28650986]])"
      ]
     },
     "execution_count": 197,
     "metadata": {},
     "output_type": "execute_result"
    }
   ],
   "source": [
    "arr38"
   ]
  },
  {
   "cell_type": "code",
   "execution_count": 199,
   "id": "3731a0cc",
   "metadata": {},
   "outputs": [
    {
     "data": {
      "text/plain": [
       "array([[ 964.22511572,  967.57248066, 1009.08262936],\n",
       "       [ 994.30371509, 1020.14166036, 1052.80114839],\n",
       "       [ 999.28650986, 1011.42770733, 1034.61176902]])"
      ]
     },
     "execution_count": 199,
     "metadata": {},
     "output_type": "execute_result"
    }
   ],
   "source": [
    "np.sort(arr38,axis=-1,kind='quicksort')"
   ]
  },
  {
   "cell_type": "code",
   "execution_count": 221,
   "id": "c00007e9",
   "metadata": {},
   "outputs": [
    {
     "name": "stdout",
     "output_type": "stream",
     "text": [
      "[[ 1  3  5  7  9]\n",
      " [11 13 15 17 19]]\n"
     ]
    },
    {
     "data": {
      "text/plain": [
       "array([[100,   3,  20,   7,   9],\n",
       "       [ 11,  13,  15,  17,  19]])"
      ]
     },
     "execution_count": 221,
     "metadata": {},
     "output_type": "execute_result"
    }
   ],
   "source": [
    "arr39 = np.arange(1,20,2).reshape(2,5)\n",
    "print(arr39)\n",
    "np.sum(arr39,axis=1)\n",
    "arr39[0,0]=100\n",
    "arr39[0,2] = 20\n",
    "arr39"
   ]
  },
  {
   "cell_type": "code",
   "execution_count": 222,
   "id": "309ae3fe",
   "metadata": {},
   "outputs": [
    {
     "data": {
      "text/plain": [
       "array([100,  13,  20,  17,  19])"
      ]
     },
     "execution_count": 222,
     "metadata": {},
     "output_type": "execute_result"
    }
   ],
   "source": [
    "np.amax(arr39)\n",
    "np.amax(arr39, axis= 0)"
   ]
  },
  {
   "cell_type": "code",
   "execution_count": 223,
   "id": "32fbe910",
   "metadata": {},
   "outputs": [
    {
     "data": {
      "text/plain": [
       "array([100,  19])"
      ]
     },
     "execution_count": 223,
     "metadata": {},
     "output_type": "execute_result"
    }
   ],
   "source": [
    "np.amax(arr39, axis= 1)"
   ]
  },
  {
   "cell_type": "code",
   "execution_count": 224,
   "id": "7f94326e",
   "metadata": {},
   "outputs": [
    {
     "data": {
      "text/plain": [
       "100"
      ]
     },
     "execution_count": 224,
     "metadata": {},
     "output_type": "execute_result"
    }
   ],
   "source": [
    "arr39.max()"
   ]
  },
  {
   "cell_type": "code",
   "execution_count": 225,
   "id": "37366854",
   "metadata": {},
   "outputs": [
    {
     "data": {
      "text/plain": [
       "3"
      ]
     },
     "execution_count": 225,
     "metadata": {},
     "output_type": "execute_result"
    }
   ],
   "source": [
    "np.amin(arr39)\n",
    "np.amin(arr39, axis= 0)\n",
    "arr39.min()"
   ]
  },
  {
   "cell_type": "code",
   "execution_count": 226,
   "id": "2fbc50b0",
   "metadata": {},
   "outputs": [
    {
     "data": {
      "text/plain": [
       "21.4"
      ]
     },
     "execution_count": 226,
     "metadata": {},
     "output_type": "execute_result"
    }
   ],
   "source": [
    "np.mean(arr39)\n",
    "np.mean(arr39, axis= 0)\n",
    "arr39.mean()"
   ]
  },
  {
   "cell_type": "code",
   "execution_count": 229,
   "id": "73a330d6",
   "metadata": {},
   "outputs": [
    {
     "data": {
      "text/plain": [
       "array([28.8, 11. , 16. , 15. , 17. ])"
      ]
     },
     "execution_count": 229,
     "metadata": {},
     "output_type": "execute_result"
    }
   ],
   "source": [
    "np.average(arr39,axis=0,weights=[0.2,0.8])"
   ]
  },
  {
   "cell_type": "code",
   "execution_count": 236,
   "id": "bf3231a7",
   "metadata": {},
   "outputs": [
    {
     "data": {
      "text/plain": [
       "array([[100, 100,  20,   7,   9],\n",
       "       [100,  13,  15,  17,  19]])"
      ]
     },
     "execution_count": 236,
     "metadata": {},
     "output_type": "execute_result"
    }
   ],
   "source": [
    "arr39[0,1]=100\n",
    "arr39[1,0]=100\n",
    "arr39"
   ]
  },
  {
   "cell_type": "code",
   "execution_count": 247,
   "id": "e266bbfd",
   "metadata": {},
   "outputs": [],
   "source": [
    "arr40 = np.array(['l','o','l','i','p'])\n",
    "u,v = np.unique(arr10,return_index=True,axis=0)"
   ]
  },
  {
   "cell_type": "code",
   "execution_count": 248,
   "id": "acac0766",
   "metadata": {},
   "outputs": [
    {
     "data": {
      "text/plain": [
       "(array(['i', 'l', 'o', 'p'], dtype='<U1'), array([3, 0, 1, 4], dtype=int64))"
      ]
     },
     "execution_count": 248,
     "metadata": {},
     "output_type": "execute_result"
    }
   ],
   "source": [
    "u,v"
   ]
  },
  {
   "cell_type": "code",
   "execution_count": 251,
   "id": "1f837cd3",
   "metadata": {},
   "outputs": [],
   "source": [
    "arr41 = np.array([[1,1,1],[1,1,1],[1,2,1]])"
   ]
  },
  {
   "cell_type": "code",
   "execution_count": 252,
   "id": "bd58bdf4",
   "metadata": {},
   "outputs": [
    {
     "data": {
      "text/plain": [
       "array([[1, 1, 1],\n",
       "       [1, 1, 1],\n",
       "       [1, 2, 1]])"
      ]
     },
     "execution_count": 252,
     "metadata": {},
     "output_type": "execute_result"
    }
   ],
   "source": [
    "arr41"
   ]
  },
  {
   "cell_type": "code",
   "execution_count": 254,
   "id": "09edfc22",
   "metadata": {},
   "outputs": [],
   "source": [
    "u,v = np.unique(arr41,return_index=True,axis=0)"
   ]
  },
  {
   "cell_type": "code",
   "execution_count": 255,
   "id": "9e1c64dc",
   "metadata": {},
   "outputs": [
    {
     "data": {
      "text/plain": [
       "(array([[1, 1, 1],\n",
       "        [1, 2, 1]]),\n",
       " array([0, 2], dtype=int64))"
      ]
     },
     "execution_count": 255,
     "metadata": {},
     "output_type": "execute_result"
    }
   ],
   "source": [
    "u,v"
   ]
  },
  {
   "cell_type": "code",
   "execution_count": 256,
   "id": "a82af08d",
   "metadata": {},
   "outputs": [],
   "source": [
    "u,v = np.unique(arr41,return_index=True,axis=1)"
   ]
  },
  {
   "cell_type": "code",
   "execution_count": 257,
   "id": "1a3e169b",
   "metadata": {},
   "outputs": [
    {
     "data": {
      "text/plain": [
       "(array([[1, 1],\n",
       "        [1, 1],\n",
       "        [1, 2]]),\n",
       " array([0, 1], dtype=int64))"
      ]
     },
     "execution_count": 257,
     "metadata": {},
     "output_type": "execute_result"
    }
   ],
   "source": [
    "u,v"
   ]
  },
  {
   "cell_type": "markdown",
   "id": "3c2094bc",
   "metadata": {},
   "source": [
    "### Extra"
   ]
  },
  {
   "cell_type": "code",
   "execution_count": 259,
   "id": "f854341b",
   "metadata": {},
   "outputs": [
    {
     "data": {
      "text/plain": [
       "array([ 1,  2,  3,  4, 80, 20, 20, 10, 10, 22, 35])"
      ]
     },
     "execution_count": 259,
     "metadata": {},
     "output_type": "execute_result"
    }
   ],
   "source": [
    "a = np.array([1,2,3,4,100,20,40,30,10,22,55])\n",
    "arr43 = np.where(a<30,a,a-20)\n",
    "arr43"
   ]
  },
  {
   "cell_type": "code",
   "execution_count": 260,
   "id": "caa9de1e",
   "metadata": {},
   "outputs": [
    {
     "data": {
      "text/plain": [
       "array([[1, 2, 3],\n",
       "       [1, 2, 2],\n",
       "       [3, 3, 1]])"
      ]
     },
     "execution_count": 260,
     "metadata": {},
     "output_type": "execute_result"
    }
   ],
   "source": [
    "b = np.array([[1,2,3],[1,2,2],[3,3,1]])\n",
    "b"
   ]
  },
  {
   "cell_type": "code",
   "execution_count": 263,
   "id": "59fd81ca",
   "metadata": {},
   "outputs": [
    {
     "data": {
      "text/plain": [
       "array([[1, 4, 5],\n",
       "       [1, 4, 4],\n",
       "       [5, 5, 1]])"
      ]
     },
     "execution_count": 263,
     "metadata": {},
     "output_type": "execute_result"
    }
   ],
   "source": [
    "arr44 = np.where(b==1,b,b+2)\n",
    "arr44"
   ]
  },
  {
   "cell_type": "code",
   "execution_count": 264,
   "id": "89e1ef5a",
   "metadata": {},
   "outputs": [
    {
     "data": {
      "text/plain": [
       "-15.0"
      ]
     },
     "execution_count": 264,
     "metadata": {},
     "output_type": "execute_result"
    }
   ],
   "source": [
    "np.linalg.det(arr44)"
   ]
  },
  {
   "cell_type": "code",
   "execution_count": 265,
   "id": "b473dca2",
   "metadata": {},
   "outputs": [
    {
     "data": {
      "text/plain": [
       "array([[ 1.06666667, -1.4       ,  0.26666667],\n",
       "       [-1.26666667,  1.6       , -0.06666667],\n",
       "       [ 1.        , -1.        ,  0.        ]])"
      ]
     },
     "execution_count": 265,
     "metadata": {},
     "output_type": "execute_result"
    }
   ],
   "source": [
    "np.linalg.inv(arr44)"
   ]
  },
  {
   "cell_type": "code",
   "execution_count": 268,
   "id": "1de7ec14",
   "metadata": {},
   "outputs": [
    {
     "data": {
      "text/plain": [
       "array([[ 1.00000000e+00,  0.00000000e+00,  0.00000000e+00],\n",
       "       [ 0.00000000e+00,  1.00000000e+00,  0.00000000e+00],\n",
       "       [ 0.00000000e+00, -6.66133815e-16,  1.00000000e+00]])"
      ]
     },
     "execution_count": 268,
     "metadata": {},
     "output_type": "execute_result"
    }
   ],
   "source": [
    "a = arr44@np.linalg.inv(arr44)\n",
    "a"
   ]
  },
  {
   "cell_type": "code",
   "execution_count": 278,
   "id": "f230d560",
   "metadata": {},
   "outputs": [],
   "source": [
    "np.savez('numSav',a = arr44,b= arr43)"
   ]
  },
  {
   "cell_type": "code",
   "execution_count": 279,
   "id": "bbdffd96",
   "metadata": {},
   "outputs": [],
   "source": [
    "data = np.load('numSav.npz')"
   ]
  },
  {
   "cell_type": "code",
   "execution_count": 280,
   "id": "5e41f4f5",
   "metadata": {},
   "outputs": [
    {
     "data": {
      "text/plain": [
       "<numpy.lib.npyio.NpzFile at 0x1e1a7463dc0>"
      ]
     },
     "execution_count": 280,
     "metadata": {},
     "output_type": "execute_result"
    }
   ],
   "source": [
    "data"
   ]
  },
  {
   "cell_type": "code",
   "execution_count": 281,
   "id": "49cf9894",
   "metadata": {},
   "outputs": [
    {
     "data": {
      "text/plain": [
       "array([[1, 4, 5],\n",
       "       [1, 4, 4],\n",
       "       [5, 5, 1]])"
      ]
     },
     "execution_count": 281,
     "metadata": {},
     "output_type": "execute_result"
    }
   ],
   "source": [
    "data['a']"
   ]
  }
 ],
 "metadata": {
  "kernelspec": {
   "display_name": "Python 3 (ipykernel)",
   "language": "python",
   "name": "python3"
  },
  "language_info": {
   "codemirror_mode": {
    "name": "ipython",
    "version": 3
   },
   "file_extension": ".py",
   "mimetype": "text/x-python",
   "name": "python",
   "nbconvert_exporter": "python",
   "pygments_lexer": "ipython3",
   "version": "3.9.12"
  }
 },
 "nbformat": 4,
 "nbformat_minor": 5
}
